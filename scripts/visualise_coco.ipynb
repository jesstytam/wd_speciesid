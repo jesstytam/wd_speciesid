{
 "cells": [
  {
   "cell_type": "code",
   "execution_count": 1,
   "metadata": {},
   "outputs": [],
   "source": [
    "from PIL import Image, ImageDraw, ImageFont\n",
    "import json\n",
    "import os\n",
    "from pathlib import Path\n",
    "\n",
    "# Specify the root folder where your images are located\n",
    "coco_path = '/home/jess/wd_speciesid/data/intermediate/coco.json'\n",
    "coco = json.load(open(coco_path))"
   ]
  },
  {
   "cell_type": "code",
   "execution_count": 2,
   "metadata": {},
   "outputs": [
    {
     "data": {
      "text/plain": [
       "{'id': '8697519e-3c93-11ee-bfaa-22169906f295',\n",
       " 'image_id': 'PCAM01_2021-05-24_17-58-33_M_1_3',\n",
       " 'category_id': 0,\n",
       " 'bbox': [637.952, 613.8720000000001, 348.9792, 253.872]}"
      ]
     },
     "execution_count": 2,
     "metadata": {},
     "output_type": "execute_result"
    }
   ],
   "source": [
    "coco['annotations'][0]"
   ]
  },
  {
   "cell_type": "code",
   "execution_count": 3,
   "metadata": {},
   "outputs": [
    {
     "data": {
      "text/plain": [
       "{'id': 'PCAM01_2021-05-24_17-58-33_M_1_3',\n",
       " 'file_name': 'PCAM01/2021-05-24 17-58-33 M 1_3.JPG',\n",
       " 'width': 2048,\n",
       " 'height': 1440}"
      ]
     },
     "execution_count": 3,
     "metadata": {},
     "output_type": "execute_result"
    }
   ],
   "source": [
    "coco['images'][0]"
   ]
  },
  {
   "cell_type": "code",
   "execution_count": 32,
   "metadata": {},
   "outputs": [
    {
     "ename": "IndexError",
     "evalue": "string index out of range",
     "output_type": "error",
     "traceback": [
      "\u001b[0;31m---------------------------------------------------------------------------\u001b[0m",
      "\u001b[0;31mIndexError\u001b[0m                                Traceback (most recent call last)",
      "Cell \u001b[0;32mIn[32], line 7\u001b[0m\n\u001b[1;32m      5\u001b[0m image_id \u001b[39m=\u001b[39m coco[\u001b[39m'\u001b[39m\u001b[39mimages\u001b[39m\u001b[39m'\u001b[39m][i][\u001b[39m'\u001b[39m\u001b[39mid\u001b[39m\u001b[39m'\u001b[39m]\n\u001b[1;32m      6\u001b[0m path \u001b[39m=\u001b[39m coco[\u001b[39m'\u001b[39m\u001b[39mimages\u001b[39m\u001b[39m'\u001b[39m][i][\u001b[39m'\u001b[39m\u001b[39mfile_name\u001b[39m\u001b[39m'\u001b[39m]\n\u001b[0;32m----> 7\u001b[0m paths[image_id[i]] \u001b[39m=\u001b[39m path[i]\n",
      "\u001b[0;31mIndexError\u001b[0m: string index out of range"
     ]
    }
   ],
   "source": [
    "image_folder = '/home/jess/data/wild_deserts/Beyond the Fence- Tagged/images'\n",
    "\n",
    "paths = {}\n",
    "for i in range(len(coco['images'])):\n",
    "    image_id = coco['images'][i]['id']\n",
    "    path = coco['images'][i]['file_name']\n",
    "    paths[image_id[i]] = path[i]"
   ]
  },
  {
   "cell_type": "code",
   "execution_count": 22,
   "metadata": {},
   "outputs": [
    {
     "data": {
      "text/plain": [
       "dict_values(['/home/jess/data/wild_deserts/Beyond the Fence- Tagged/images/PCAM01/2021-05-25 04-27-17 M 2_3.JPG'])"
      ]
     },
     "execution_count": 22,
     "metadata": {},
     "output_type": "execute_result"
    }
   ],
   "source": [
    "paths[9].values()"
   ]
  },
  {
   "cell_type": "code",
   "execution_count": 25,
   "metadata": {},
   "outputs": [
    {
     "ename": "KeyboardInterrupt",
     "evalue": "",
     "output_type": "error",
     "traceback": [
      "\u001b[0;31m---------------------------------------------------------------------------\u001b[0m",
      "\u001b[0;31mKeyboardInterrupt\u001b[0m                         Traceback (most recent call last)",
      "Cell \u001b[0;32mIn[25], line 2\u001b[0m\n\u001b[1;32m      1\u001b[0m \u001b[39mfor\u001b[39;00m item \u001b[39min\u001b[39;00m coco[\u001b[39m'\u001b[39m\u001b[39mannotations\u001b[39m\u001b[39m'\u001b[39m][:\u001b[39m4\u001b[39m]:\n\u001b[0;32m----> 2\u001b[0m     \u001b[39mwhile\u001b[39;00m path \u001b[39min\u001b[39;00m paths:\n\u001b[1;32m      3\u001b[0m         image_path \u001b[39m=\u001b[39m path\u001b[39m.\u001b[39mvalues()\n\u001b[1;32m      4\u001b[0m     image \u001b[39m=\u001b[39m Image\u001b[39m.\u001b[39mopen(image_path)\n",
      "\u001b[0;31mKeyboardInterrupt\u001b[0m: "
     ]
    }
   ],
   "source": [
    "for item in coco['annotations'][:4]:\n",
    "    while path in paths:\n",
    "        image_path = path.values()\n",
    "    image = Image.open(image_path)\n",
    "    draw = ImageDraw.Draw(image)\n",
    "\n"
   ]
  },
  {
   "cell_type": "code",
   "execution_count": 28,
   "metadata": {},
   "outputs": [
    {
     "ename": "FileNotFoundError",
     "evalue": "[Errno 2] No such file or directory: '/home/jess/data/wild_deserts/Beyond the Fence- Tagged/imagesPCAM01_2021-05-24_17-58-33_M_1_3.jpg'",
     "output_type": "error",
     "traceback": [
      "\u001b[0;31m---------------------------------------------------------------------------\u001b[0m",
      "\u001b[0;31mFileNotFoundError\u001b[0m                         Traceback (most recent call last)",
      "Cell \u001b[0;32mIn[28], line 26\u001b[0m\n\u001b[1;32m     23\u001b[0m image_path \u001b[39m=\u001b[39m image_root_folder \u001b[39m+\u001b[39m image_id \u001b[39m+\u001b[39m \u001b[39m'\u001b[39m\u001b[39m.jpg\u001b[39m\u001b[39m'\u001b[39m  \u001b[39m# Adjust the file extension if needed\u001b[39;00m\n\u001b[1;32m     25\u001b[0m \u001b[39m# Load the image\u001b[39;00m\n\u001b[0;32m---> 26\u001b[0m image \u001b[39m=\u001b[39m Image\u001b[39m.\u001b[39mopen(image_path)\n\u001b[1;32m     27\u001b[0m draw \u001b[39m=\u001b[39m ImageDraw\u001b[39m.\u001b[39mDraw(image)\n\u001b[1;32m     29\u001b[0m \u001b[39m# Iterate through predictions for the same image\u001b[39;00m\n",
      "File \u001b[0;32m~/miniconda3/envs/cv4e/lib/python3.11/site-packages/PIL/Image.py:3227\u001b[0m, in \u001b[0;36mopen\u001b[0;34m(fp, mode, formats)\u001b[0m\n\u001b[1;32m   3224\u001b[0m     filename \u001b[39m=\u001b[39m fp\n\u001b[1;32m   3226\u001b[0m \u001b[39mif\u001b[39;00m filename:\n\u001b[0;32m-> 3227\u001b[0m     fp \u001b[39m=\u001b[39m builtins\u001b[39m.\u001b[39mopen(filename, \u001b[39m\"\u001b[39m\u001b[39mrb\u001b[39m\u001b[39m\"\u001b[39m)\n\u001b[1;32m   3228\u001b[0m     exclusive_fp \u001b[39m=\u001b[39m \u001b[39mTrue\u001b[39;00m\n\u001b[1;32m   3230\u001b[0m \u001b[39mtry\u001b[39;00m:\n",
      "\u001b[0;31mFileNotFoundError\u001b[0m: [Errno 2] No such file or directory: '/home/jess/data/wild_deserts/Beyond the Fence- Tagged/imagesPCAM01_2021-05-24_17-58-33_M_1_3.jpg'"
     ]
    }
   ],
   "source": [
    "from PIL import Image, ImageDraw, ImageFont\n",
    "import json\n",
    "from collections import defaultdict\n",
    "\n",
    "# Load your predictions JSON file\n",
    "predictions_path = '/home/jess/wd_speciesid/data/intermediate/coco.json'\n",
    "with open(predictions_path, 'r') as predictions_file:\n",
    "    predictions_data = json.load(predictions_file)\n",
    "\n",
    "# Specify the root folder where your images are located\n",
    "image_root_folder = '/home/jess/data/wild_deserts/Beyond the Fence- Tagged/images'\n",
    "\n",
    "# Create a dictionary to group predictions by image ID\n",
    "image_predictions = defaultdict(list)\n",
    "\n",
    "# Iterate through the predictions data and group by image ID\n",
    "for prediction in predictions_data['annotations'][:10]:\n",
    "    image_id = prediction['image_id']\n",
    "    image_predictions[image_id].append(prediction)\n",
    "\n",
    "# Load each image and draw bounding boxes\n",
    "for image_id, predictions in image_predictions.items():\n",
    "    image_path = image_root_folder + image_id + '.jpg'  # Adjust the file extension if needed\n",
    "\n",
    "    # Load the image\n",
    "    image = Image.open(image_path)\n",
    "    draw = ImageDraw.Draw(image)\n",
    "\n",
    "    # Iterate through predictions for the same image\n",
    "    for prediction in predictions:\n",
    "        category_id = prediction['category_id']\n",
    "        bbox = prediction['bbox']\n",
    "        score = prediction['score']\n",
    "\n",
    "        # Extract bounding box coordinates\n",
    "        x, y, width, height = map(int, bbox)\n",
    "\n",
    "        # Define the color for the bounding box based on category_id\n",
    "        # You can customize this mapping based on your category colors\n",
    "        outline_color = (0, 255, 0)  # Green by default\n",
    "\n",
    "        # Draw the bounding box\n",
    "        draw.rectangle([x, y, x + width, y + height], outline=outline_color, width=2)\n",
    "\n",
    "        # Add label text with category and score\n",
    "        label_text = f'Category: {category_id}, Score: {score:.2f}'\n",
    "        font = ImageFont.truetype('arial.ttf', 14)  # Adjust the font and size\n",
    "        draw.text((x, y - 18), label_text, fill=outline_color, font=font)\n",
    "\n",
    "    # Save or display the image\n",
    "    # output_image_path = 'output/' + image_id + '_output.jpg'\n",
    "    # image.save(output_image_path)\n",
    "    image.show()\n",
    "\n",
    "# print(\"Images with bounding boxes saved in the 'output' folder.\")\n"
   ]
  },
  {
   "cell_type": "code",
   "execution_count": null,
   "metadata": {},
   "outputs": [],
   "source": [
    "# Iterate through the grouped predictions\n",
    "for image_id, predictions in coco():\n",
    "    # Get the full image path\n",
    "    for camera in cameras:\n",
    "        image_path = os.path.join(image_root_folder, camera, image_id + '.JPG')\n",
    "        if Path(image_path).is_file():\n",
    "            break\n",
    "    else:\n",
    "        print(f\"Image not found: {image_id}\")\n",
    "        continue\n",
    "\n",
    "    # Load the image\n",
    "    image = Image.open(image_path)\n",
    "    draw = ImageDraw.Draw(image)\n",
    "\n",
    "    # Initialize text_y inside the loop\n",
    "    text_y = None\n",
    "\n",
    "    # Iterate through predictions for the same image\n",
    "    for i, prediction in enumerate(predictions):\n",
    "        category_id = prediction['category_id']\n",
    "        bbox = prediction['bbox']\n",
    "        score = prediction['score']\n",
    "\n",
    "        # Check for overlap with previous predictions\n",
    "        if i > 0:\n",
    "            previous_prediction = predictions[i - 1]\n",
    "            if calculate_overlap(bbox[0], bbox[1], bbox[2], bbox[3], previous_prediction['bbox'][0], previous_prediction['bbox'][1], previous_prediction['bbox'][2], previous_prediction['bbox'][3]) > 0.2:\n",
    "                # If overlap is greater than 20%, adjust text position\n",
    "                if text_y is not None:\n",
    "                    text_y += 50  # Move text down\n",
    "\n",
    "        # Use the outline color based on the category ID\n",
    "        label = labels.get(category_id, {'label': 'Unknown', 'colour': '#FFFFFF'})\n",
    "        outline_colour = tuple(int(label['colour'][i:i + 2], 16) for i in (1, 3, 5))  # Convert hex to RGB\n",
    "\n",
    "        # Draw a rectangle on the image\n",
    "        x, y, width, height = bbox\n",
    "        draw.rectangle([x, y, x + width, y + height], outline=outline_colour, width=6)\n",
    "\n",
    "        # Get the label text from the reverse mapping\n",
    "        label_id = label_to_category.get(label['label'], 'Unknown')\n",
    "        label_text = f'{label[\"label\"]} ({score})'  # Label with category label and score\n",
    "        text_color = outline_colour  # RGB color\n",
    "\n",
    "        # Load a built-in font with the specified size\n",
    "        font = ImageFont.truetype('/home/jess/wd_speciesid/fonts/FiraMono-Bold.ttf', size=40)\n",
    "\n",
    "        # Calculate text position\n",
    "        text_x = x\n",
    "        if text_y is None:\n",
    "            text_y = y - 45  # Initialize text_y if not set\n",
    "        else:\n",
    "            text_y -= 5  # Move text down for subsequent predictions\n",
    "\n",
    "        # Draw the label text on the image\n",
    "        draw.text((text_x, text_y), label_text, fill=text_color, font=font)\n",
    "\n",
    "    # Save or display the image\n",
    "    path_to_save = f'/home/jess/data/wild_deserts/Beyond the Fence- Tagged/results/yolov8_trial1/{image_id}_output.jpg'\n",
    "    image.save(path_to_save)\n",
    "    print('Image saved ', image_id)\n",
    "    # image.show()"
   ]
  }
 ],
 "metadata": {
  "kernelspec": {
   "display_name": "cv4e",
   "language": "python",
   "name": "python3"
  },
  "language_info": {
   "codemirror_mode": {
    "name": "ipython",
    "version": 3
   },
   "file_extension": ".py",
   "mimetype": "text/x-python",
   "name": "python",
   "nbconvert_exporter": "python",
   "pygments_lexer": "ipython3",
   "version": "3.11.4"
  },
  "orig_nbformat": 4
 },
 "nbformat": 4,
 "nbformat_minor": 2
}
